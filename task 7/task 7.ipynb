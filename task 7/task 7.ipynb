{
 "cells": [
  {
   "cell_type": "code",
   "execution_count": 4,
   "metadata": {},
   "outputs": [
    {
     "name": "stdout",
     "output_type": "stream",
     "text": [
      "Best path: ['Start', 'Town', 'Village', 'Goal']\n"
     ]
    },
    {
     "data": {
      "text/plain": [
       "['Start', 'Town', 'Village', 'Goal']"
      ]
     },
     "execution_count": 4,
     "metadata": {},
     "output_type": "execute_result"
    }
   ],
   "source": [
    "from collections import deque\n",
    "\n",
    "class MapPath:\n",
    "    def __init__(self, routes):\n",
    "        self.routes = routes\n",
    "\n",
    "    def neighbors(self, place):\n",
    "        return self.routes[place]\n",
    "\n",
    "    def estimate(self, city):\n",
    "        estimates = {\n",
    "            'Start': 1,\n",
    "            'Town': 2,\n",
    "            'Forest': 2,\n",
    "            'Village': 1,\n",
    "            'Goal': 0\n",
    "        }\n",
    "        return estimates[city]\n",
    "\n",
    "    def find_path(self, start, end):\n",
    "        open_set = set([start])\n",
    "        closed_set = set([])\n",
    "\n",
    "        cost = {start: 0}\n",
    "        parent = {start: start}\n",
    "\n",
    "        while len(open_set) > 0:\n",
    "            current = None\n",
    "            for node in open_set:\n",
    "                if current is None or cost[node] + self.estimate(node) < cost[current] + self.estimate(current):\n",
    "                    current = node\n",
    "\n",
    "            if current is None:\n",
    "                print(\"No route found.\")\n",
    "                return None\n",
    "\n",
    "            if current == end:\n",
    "                path = []\n",
    "                while parent[current] != current:\n",
    "                    path.append(current)\n",
    "                    current = parent[current]\n",
    "                path.append(start)\n",
    "                path.reverse()\n",
    "                print(\"Best path:\", path)\n",
    "                return path\n",
    "\n",
    "            for (next_city, distance) in self.neighbors(current):\n",
    "                if next_city not in open_set and next_city not in closed_set:\n",
    "                    open_set.add(next_city)\n",
    "                    parent[next_city] = current\n",
    "                    cost[next_city] = cost[current] + distance\n",
    "                else:\n",
    "                    if cost[next_city] > cost[current] + distance:\n",
    "                        cost[next_city] = cost[current] + distance\n",
    "                        parent[next_city] = current\n",
    "                        if next_city in closed_set:\n",
    "                            closed_set.remove(next_city)\n",
    "                            open_set.add(next_city)\n",
    "\n",
    "            open_set.remove(current)\n",
    "            closed_set.add(current)\n",
    "\n",
    "        print(\"No route found.\")\n",
    "        return None\n",
    "\n",
    "\n",
    "paths = {\n",
    "    'Start': [('Town', 3), ('Forest', 5), ('Village', 8)],\n",
    "    'Town': [('Village', 4)],\n",
    "    'Forest': [('Goal', 6)],\n",
    "    'Village': [('Goal', 2)]\n",
    "}\n",
    "\n",
    "map_game = MapPath(paths)\n",
    "map_game.find_path('Start', 'Goal')\n"
   ]
  },
  {
   "cell_type": "code",
   "execution_count": null,
   "metadata": {},
   "outputs": [],
   "source": []
  }
 ],
 "metadata": {
  "kernelspec": {
   "display_name": "Python 3",
   "language": "python",
   "name": "python3"
  },
  "language_info": {
   "codemirror_mode": {
    "name": "ipython",
    "version": 3
   },
   "file_extension": ".py",
   "mimetype": "text/x-python",
   "name": "python",
   "nbconvert_exporter": "python",
   "pygments_lexer": "ipython3",
   "version": "3.10.11"
  },
  "orig_nbformat": 4,
  "vscode": {
   "interpreter": {
    "hash": "78c0e4ddda4c0432432a2dcafa5b401b3e7ea7fa12cfdf95da98840a685eecb3"
   }
  }
 },
 "nbformat": 4,
 "nbformat_minor": 2
}
