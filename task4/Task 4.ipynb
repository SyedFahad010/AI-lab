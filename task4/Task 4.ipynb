{
 "cells": [
  {
   "attachments": {},
   "cell_type": "markdown",
   "id": "43edee06",
   "metadata": {},
   "source": [
    "### Syed Fahad Shabbir 040 AI 3B AI lab Task 4\n"
   ]
  },
  {
   "cell_type": "markdown",
   "id": "0ee5c143",
   "metadata": {},
   "source": [
    "#### Luhn Check\n"
   ]
  },
  {
   "cell_type": "code",
   "execution_count": 1,
   "id": "c0ccd284",
   "metadata": {},
   "outputs": [
    {
     "name": "stdout",
     "output_type": "stream",
     "text": [
      "Card: 02301567848305610\n",
      "Is Valid? -> No\n"
     ]
    }
   ],
   "source": [
    "def luhncheck(card_number):\n",
    "   \n",
    "    digits = list(map(int, str(card_number)))\n",
    "    \n",
    "   \n",
    "    total = 0\n",
    "    n = len(digits)\n",
    "\n",
    "    for i in range(n):\n",
    "        d = digits[n - i - 1]   \n",
    "        if i % 2 == 1:          \n",
    "            d = d * 2\n",
    "            if d > 9:\n",
    "                d = d - 9\n",
    "        total += d\n",
    "\n",
    "    \n",
    "    return total % 10 == 0\n",
    "\n",
    "\n",
    "\n",
    "card = \"02301567848305610\"\n",
    "print(\"Card:\", card)\n",
    "print(\"Is Valid? ->\", \"Yes\" if luhncheck(card) else \"No\")\n"
   ]
  },
  {
   "cell_type": "markdown",
   "id": "01e86844",
   "metadata": {},
   "source": [
    "#### Remove  Punctuation"
   ]
  },
  {
   "cell_type": "code",
   "execution_count": 2,
   "id": "46d86084",
   "metadata": {},
   "outputs": [
    {
     "name": "stdout",
     "output_type": "stream",
     "text": [
      "Original: Hy, what happened here?\n",
      "Without punc: Hy what happened here\n"
     ]
    }
   ],
   "source": [
    "import string\n",
    "\n",
    "def rem_punc(text):\n",
    "    clean = \"\"\n",
    "    for ch in text:\n",
    "        if ch not in string.punctuation:  \n",
    "            clean += ch\n",
    "    return clean\n",
    "\n",
    "sentence = \"Hy, what happened here?\"\n",
    "print(\"Original:\", sentence)\n",
    "print(\"Without punc:\", rem_punc(sentence))\n"
   ]
  },
  {
   "cell_type": "markdown",
   "id": "0a88f227",
   "metadata": {},
   "source": [
    "#### Sort Sentence"
   ]
  },
  {
   "cell_type": "code",
   "execution_count": 3,
   "id": "afe4d5fa",
   "metadata": {},
   "outputs": [
    {
     "name": "stdout",
     "output_type": "stream",
     "text": [
      "Orig.: fahad is learning python\n",
      "Sorted in letters: is hnopty aegilnnr aadfh\n"
     ]
    }
   ],
   "source": [
    "def sortsentence(sentence):  \n",
    "    words = sentence.split()    \n",
    "    sorted_each_word = [''.join(sorted(word)) for word in words]\n",
    "    sorted_words = sorted(sorted_each_word, reverse=True)\n",
    "    result = \" \".join(sorted_words)\n",
    "    return result\n",
    "\n",
    "sentence = \"fahad is learning python\"\n",
    "print(\"Orig.:\", sentence)\n",
    "print(\"Sorted in letters:\", sortsentence(sentence))\n"
   ]
  },
  {
   "cell_type": "code",
   "execution_count": null,
   "id": "3d03f709",
   "metadata": {},
   "outputs": [],
   "source": []
  }
 ],
 "metadata": {
  "kernelspec": {
   "display_name": "base",
   "language": "python",
   "name": "python3"
  },
  "language_info": {
   "codemirror_mode": {
    "name": "ipython",
    "version": 3
   },
   "file_extension": ".py",
   "mimetype": "text/x-python",
   "name": "python",
   "nbconvert_exporter": "python",
   "pygments_lexer": "ipython3",
   "version": "3.12.4"
  },
  "vscode": {
   "interpreter": {
    "hash": "1a04fd5b4a71ee6cdcec0ddeeb295036ed918a29315d3901366888032aeb75bd"
   }
  }
 },
 "nbformat": 4,
 "nbformat_minor": 5
}
