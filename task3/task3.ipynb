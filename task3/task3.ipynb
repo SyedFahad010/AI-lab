{
 "cells": [
  {
   "attachments": {},
   "cell_type": "markdown",
   "id": "7b98fe9a",
   "metadata": {},
   "source": [
    "## Syed Fahad Shabbir \n",
    "\n"
   ]
  },
  {
   "attachments": {},
   "cell_type": "markdown",
   "id": "4e133ecd",
   "metadata": {},
   "source": [
    "## Roll no : 040\n",
    "## AI LAB 3B"
   ]
  },
  {
   "cell_type": "code",
   "execution_count": 2,
   "id": "11f5e6c6",
   "metadata": {},
   "outputs": [
    {
     "name": "stdout",
     "output_type": "stream",
     "text": [
      "Turn heater ON\n",
      "Turn heater OFF\n",
      "Heater already OFF\n"
     ]
    }
   ],
   "source": [
    "\n",
    "class ModelBasedReflexAgent:\n",
    "    def __init__(self, target_temp):\n",
    "        self.target_temp = target_temp\n",
    "        self.previous_action = None\n",
    "\n",
    "    def act(self, current_temp):\n",
    "        if current_temp < self.target_temp and self.previous_action != \"ON\":\n",
    "            self.previous_action = \"ON\"\n",
    "            return \"Turn heater ON\"\n",
    "        elif current_temp >= self.target_temp and self.previous_action != \"OFF\":\n",
    "            self.previous_action = \"OFF\"\n",
    "            return \"Turn heater OFF\"\n",
    "        else:\n",
    "          return f\"Heater already {'ON' if self.previous_action == 'ON' else 'OFF'}\"\n",
    "\n",
    "\n",
    "agent = ModelBasedReflexAgent(target_temp=23)\n",
    "print(agent.act(20))  \n",
    "print(agent.act(23))  \n",
    "print(agent.act(23))  \n"
   ]
  },
  {
   "cell_type": "code",
   "execution_count": null,
   "id": "f4b2c285",
   "metadata": {},
   "outputs": [],
   "source": []
  }
 ],
 "metadata": {
  "kernelspec": {
   "display_name": "Python 3",
   "language": "python",
   "name": "python3"
  },
  "language_info": {
   "codemirror_mode": {
    "name": "ipython",
    "version": 3
   },
   "file_extension": ".py",
   "mimetype": "text/x-python",
   "name": "python",
   "nbconvert_exporter": "python",
   "pygments_lexer": "ipython3",
   "version": "3.10.11"
  },
  "vscode": {
   "interpreter": {
    "hash": "78c0e4ddda4c0432432a2dcafa5b401b3e7ea7fa12cfdf95da98840a685eecb3"
   }
  }
 },
 "nbformat": 4,
 "nbformat_minor": 5
}
